{
 "cells": [
  {
   "cell_type": "markdown",
   "id": "eda130cf-28ab-435e-a618-a4acae5442ff",
   "metadata": {},
   "source": [
    "# Project Name: FHR and UC Analysis"
   ]
  },
  {
   "cell_type": "markdown",
   "id": "2fc3ca08-e46c-482a-af52-0d7134d55440",
   "metadata": {},
   "source": [
    "### Generate Data"
   ]
  },
  {
   "cell_type": "code",
   "execution_count": null,
   "id": "81d178c8-890a-4707-a8e8-cfc6d58a1b73",
   "metadata": {},
   "outputs": [],
   "source": [
    "import pandas as pd\n",
    "import numpy as np\n",
    "\n",
    "# Set parameters for dataset generation\n",
    "num_rows = 1000  # Number of rows in the dataset\n",
    "num_columns = 3  # Number of columns (including time, FHR, and UC)\n",
    "\n",
    "# Simulate time in milliseconds (each row is 250 milliseconds apart)\n",
    "time_column = np.arange(250, 250 * (num_rows + 1), 250)\n",
    "\n",
    "# Simulate FHR (beats per minute), random values around a typical range for fetal heart rate\n",
    "fhr_column = np.random.randint(120, 160, size=num_rows)\n",
    "\n",
    "# Simulate UC (TOCO), random values representing uterine contractions\n",
    "uc_column = np.random.randint(5, 20, size=num_rows)\n",
    "\n",
    "# Generate additional random columns to reach 10 columns\n",
    "extra_columns = {\n",
    "    f\"Extra_Col_{i+1}\": np.random.random(size=num_rows) * 100 for i in range(num_columns - 3)\n",
    "}\n",
    "\n",
    "# Combine all into a DataFrame\n",
    "data = {\n",
    "    \"Time (ms)\": time_column,\n",
    "    \"FHR (bpm)\": fhr_column,\n",
    "    \"UC (TOCO)\": uc_column\n",
    "}\n",
    "\n",
    "df = pd.DataFrame(data)\n",
    "df"
   ]
  },
  {
   "cell_type": "markdown",
   "id": "3685146f-ae00-4a0f-a9c5-3ea72e0d2bcb",
   "metadata": {},
   "source": [
    "### Plotting Graphs"
   ]
  },
  {
   "cell_type": "code",
   "execution_count": null,
   "id": "8fbf54d1-8d57-4611-acb1-d4c0cf4663da",
   "metadata": {},
   "outputs": [],
   "source": [
    "import pandas as pd\n",
    "import matplotlib.pyplot as plt\n",
    "\n",
    "# Convert time from milliseconds to seconds\n",
    "df['Time (s)'] = df['Time (ms)'] / 1000\n",
    "\n",
    "# Plot FHR vs Time\n",
    "plt.figure(figsize=(10, 5))\n",
    "plt.plot(df['Time (s)'], df['FHR (bpm)'], label='FHR (bpm)', color='blue')\n",
    "plt.title('Fetal Heart Rate (FHR) over Time')\n",
    "plt.xlabel('Time (s)')\n",
    "plt.ylabel('FHR (bpm)')\n",
    "plt.legend()\n",
    "plt.show()\n",
    "\n",
    "# Plot UC vs Time\n",
    "plt.figure(figsize=(10, 5))\n",
    "plt.plot(df['Time (s)'], df['UC (TOCO)'], label='UC (TOCO)', color='red')\n",
    "plt.title('Uterine Contractions (UC) over Time')\n",
    "plt.xlabel('Time (s)')\n",
    "plt.ylabel('UC (TOCO)')\n",
    "plt.legend()\n",
    "plt.show()"
   ]
  },
  {
   "cell_type": "markdown",
   "id": "4d772cb4-510d-4b8e-a28e-3fcbc42a6ebd",
   "metadata": {},
   "source": [
    "### FHR Analysis (Epochs)"
   ]
  },
  {
   "cell_type": "code",
   "execution_count": null,
   "id": "bab43412-bf28-434c-81a5-ea117524f4da",
   "metadata": {},
   "outputs": [],
   "source": [
    "# Define function to calculate pulse interval from bpm\n",
    "def bpm_to_pulse_interval(bpm):\n",
    "    return (60 * 1000) / bpm  # Pulse interval in milliseconds\n",
    "\n",
    "# Resampling to 1-minute chunks (Assuming the time is continuous)\n",
    "df['Minute'] = df['Time (s)'] // 60\n",
    "\n",
    "# Epoch analysis: Divide each minute into 16 epochs (3.75 seconds each = 15 data points)\n",
    "epoch_size = 15  # 3.75 seconds * 4 data points per second = 15\n",
    "\n",
    "fhr_epoch_avg = []\n",
    "pulse_intervals = []\n",
    "\n",
    "for minute in df['Minute'].unique():\n",
    "    minute_data = df[df['Minute'] == minute]\n",
    "    \n",
    "    for epoch in range(0, len(minute_data), epoch_size):\n",
    "        epoch_data = minute_data.iloc[epoch:epoch + epoch_size]\n",
    "        \n",
    "        # Calculate average FHR\n",
    "        avg_fhr = epoch_data['FHR (bpm)'].mean()\n",
    "        fhr_epoch_avg.append(avg_fhr)\n",
    "        \n",
    "        # Calculate pulse interval\n",
    "        avg_pulse_interval = bpm_to_pulse_interval(avg_fhr)\n",
    "        pulse_intervals.append(avg_pulse_interval)\n",
    "\n",
    "# Convert results to DataFrame for easier analysis\n",
    "epoch_df = pd.DataFrame({\n",
    "    'Epoch': range(len(fhr_epoch_avg)),\n",
    "    'Avg FHR (bpm)': fhr_epoch_avg,\n",
    "    'Avg Pulse Interval (ms)': pulse_intervals\n",
    "})\n",
    "\n",
    "print(epoch_df.head())"
   ]
  },
  {
   "cell_type": "markdown",
   "id": "71201efd-6c25-413b-a8dd-d1c746684e5f",
   "metadata": {},
   "source": [
    "### UC Peak Detection"
   ]
  },
  {
   "cell_type": "code",
   "execution_count": null,
   "id": "9762b09e-5a74-4425-a024-c2ac48c86312",
   "metadata": {},
   "outputs": [],
   "source": [
    "from scipy.signal import find_peaks, peak_widths\n",
    "\n",
    "# UC peak detection\n",
    "uc_values = df['UC (TOCO)'].values\n",
    "peaks, _ = find_peaks(uc_values, height=0)  # You can set a height threshold if needed\n",
    "\n",
    "# Calculate the width of peaks at half their maximum height\n",
    "widths = peak_widths(uc_values, peaks, rel_height=0.5)\n",
    "\n",
    "# Convert widths from data points to seconds (4 data points per second)\n",
    "widths_in_seconds = widths[0] / 4\n",
    "\n",
    "# Count peaks where the width is greater than 30 seconds\n",
    "wide_peaks = widths_in_seconds[widths_in_seconds > 30]\n",
    "\n",
    "# Calculate the average duration of these peaks\n",
    "avg_duration = wide_peaks.mean()\n",
    "\n",
    "print(f\"Number of peaks wider than 30 seconds: {len(wide_peaks)}\")\n",
    "print(f\"Average duration of wide peaks: {avg_duration} seconds\")"
   ]
  }
 ],
 "metadata": {
  "kernelspec": {
   "display_name": "Python 3 (ipykernel)",
   "language": "python",
   "name": "python3"
  },
  "language_info": {
   "codemirror_mode": {
    "name": "ipython",
    "version": 3
   },
   "file_extension": ".py",
   "mimetype": "text/x-python",
   "name": "python",
   "nbconvert_exporter": "python",
   "pygments_lexer": "ipython3",
   "version": "3.12.0"
  }
 },
 "nbformat": 4,
 "nbformat_minor": 5
}
